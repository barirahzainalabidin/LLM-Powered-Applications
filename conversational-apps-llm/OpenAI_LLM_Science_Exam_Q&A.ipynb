{
  "nbformat": 4,
  "nbformat_minor": 0,
  "metadata": {
    "colab": {
      "provenance": []
    },
    "kernelspec": {
      "name": "python3",
      "display_name": "Python 3"
    },
    "language_info": {
      "name": "python"
    }
  },
  "cells": [
    {
      "cell_type": "code",
      "execution_count": 1,
      "metadata": {
        "colab": {
          "base_uri": "https://localhost:8080/"
        },
        "id": "b9BPbxNJlSX9",
        "outputId": "81a10705-0718-4bf0-fb4b-b2a117b9fb91"
      },
      "outputs": [
        {
          "output_type": "stream",
          "name": "stdout",
          "text": [
            "Collecting langchain-community\n",
            "  Downloading langchain_community-0.3.5-py3-none-any.whl.metadata (2.9 kB)\n",
            "Requirement already satisfied: PyYAML>=5.3 in /usr/local/lib/python3.10/dist-packages (from langchain-community) (6.0.2)\n",
            "Collecting SQLAlchemy<2.0.36,>=1.4 (from langchain-community)\n",
            "  Downloading SQLAlchemy-2.0.35-cp310-cp310-manylinux_2_17_x86_64.manylinux2014_x86_64.whl.metadata (9.6 kB)\n",
            "Requirement already satisfied: aiohttp<4.0.0,>=3.8.3 in /usr/local/lib/python3.10/dist-packages (from langchain-community) (3.10.10)\n",
            "Collecting dataclasses-json<0.7,>=0.5.7 (from langchain-community)\n",
            "  Downloading dataclasses_json-0.6.7-py3-none-any.whl.metadata (25 kB)\n",
            "Collecting httpx-sse<0.5.0,>=0.4.0 (from langchain-community)\n",
            "  Downloading httpx_sse-0.4.0-py3-none-any.whl.metadata (9.0 kB)\n",
            "Collecting langchain<0.4.0,>=0.3.6 (from langchain-community)\n",
            "  Downloading langchain-0.3.7-py3-none-any.whl.metadata (7.1 kB)\n",
            "Collecting langchain-core<0.4.0,>=0.3.15 (from langchain-community)\n",
            "  Downloading langchain_core-0.3.15-py3-none-any.whl.metadata (6.3 kB)\n",
            "Requirement already satisfied: langsmith<0.2.0,>=0.1.125 in /usr/local/lib/python3.10/dist-packages (from langchain-community) (0.1.137)\n",
            "Requirement already satisfied: numpy<2,>=1 in /usr/local/lib/python3.10/dist-packages (from langchain-community) (1.26.4)\n",
            "Collecting pydantic-settings<3.0.0,>=2.4.0 (from langchain-community)\n",
            "  Downloading pydantic_settings-2.6.1-py3-none-any.whl.metadata (3.5 kB)\n",
            "Requirement already satisfied: requests<3,>=2 in /usr/local/lib/python3.10/dist-packages (from langchain-community) (2.32.3)\n",
            "Requirement already satisfied: tenacity!=8.4.0,<10,>=8.1.0 in /usr/local/lib/python3.10/dist-packages (from langchain-community) (9.0.0)\n",
            "Requirement already satisfied: aiohappyeyeballs>=2.3.0 in /usr/local/lib/python3.10/dist-packages (from aiohttp<4.0.0,>=3.8.3->langchain-community) (2.4.3)\n",
            "Requirement already satisfied: aiosignal>=1.1.2 in /usr/local/lib/python3.10/dist-packages (from aiohttp<4.0.0,>=3.8.3->langchain-community) (1.3.1)\n",
            "Requirement already satisfied: attrs>=17.3.0 in /usr/local/lib/python3.10/dist-packages (from aiohttp<4.0.0,>=3.8.3->langchain-community) (24.2.0)\n",
            "Requirement already satisfied: frozenlist>=1.1.1 in /usr/local/lib/python3.10/dist-packages (from aiohttp<4.0.0,>=3.8.3->langchain-community) (1.5.0)\n",
            "Requirement already satisfied: multidict<7.0,>=4.5 in /usr/local/lib/python3.10/dist-packages (from aiohttp<4.0.0,>=3.8.3->langchain-community) (6.1.0)\n",
            "Requirement already satisfied: yarl<2.0,>=1.12.0 in /usr/local/lib/python3.10/dist-packages (from aiohttp<4.0.0,>=3.8.3->langchain-community) (1.17.0)\n",
            "Requirement already satisfied: async-timeout<5.0,>=4.0 in /usr/local/lib/python3.10/dist-packages (from aiohttp<4.0.0,>=3.8.3->langchain-community) (4.0.3)\n",
            "Collecting marshmallow<4.0.0,>=3.18.0 (from dataclasses-json<0.7,>=0.5.7->langchain-community)\n",
            "  Downloading marshmallow-3.23.1-py3-none-any.whl.metadata (7.5 kB)\n",
            "Collecting typing-inspect<1,>=0.4.0 (from dataclasses-json<0.7,>=0.5.7->langchain-community)\n",
            "  Downloading typing_inspect-0.9.0-py3-none-any.whl.metadata (1.5 kB)\n",
            "Requirement already satisfied: langchain-text-splitters<0.4.0,>=0.3.0 in /usr/local/lib/python3.10/dist-packages (from langchain<0.4.0,>=0.3.6->langchain-community) (0.3.0)\n",
            "Requirement already satisfied: pydantic<3.0.0,>=2.7.4 in /usr/local/lib/python3.10/dist-packages (from langchain<0.4.0,>=0.3.6->langchain-community) (2.9.2)\n",
            "Requirement already satisfied: jsonpatch<2.0,>=1.33 in /usr/local/lib/python3.10/dist-packages (from langchain-core<0.4.0,>=0.3.15->langchain-community) (1.33)\n",
            "Requirement already satisfied: packaging<25,>=23.2 in /usr/local/lib/python3.10/dist-packages (from langchain-core<0.4.0,>=0.3.15->langchain-community) (24.1)\n",
            "Requirement already satisfied: typing-extensions>=4.7 in /usr/local/lib/python3.10/dist-packages (from langchain-core<0.4.0,>=0.3.15->langchain-community) (4.12.2)\n",
            "Requirement already satisfied: httpx<1,>=0.23.0 in /usr/local/lib/python3.10/dist-packages (from langsmith<0.2.0,>=0.1.125->langchain-community) (0.27.2)\n",
            "Requirement already satisfied: orjson<4.0.0,>=3.9.14 in /usr/local/lib/python3.10/dist-packages (from langsmith<0.2.0,>=0.1.125->langchain-community) (3.10.10)\n",
            "Requirement already satisfied: requests-toolbelt<2.0.0,>=1.0.0 in /usr/local/lib/python3.10/dist-packages (from langsmith<0.2.0,>=0.1.125->langchain-community) (1.0.0)\n",
            "Collecting python-dotenv>=0.21.0 (from pydantic-settings<3.0.0,>=2.4.0->langchain-community)\n",
            "  Downloading python_dotenv-1.0.1-py3-none-any.whl.metadata (23 kB)\n",
            "Requirement already satisfied: charset-normalizer<4,>=2 in /usr/local/lib/python3.10/dist-packages (from requests<3,>=2->langchain-community) (3.4.0)\n",
            "Requirement already satisfied: idna<4,>=2.5 in /usr/local/lib/python3.10/dist-packages (from requests<3,>=2->langchain-community) (3.10)\n",
            "Requirement already satisfied: urllib3<3,>=1.21.1 in /usr/local/lib/python3.10/dist-packages (from requests<3,>=2->langchain-community) (2.2.3)\n",
            "Requirement already satisfied: certifi>=2017.4.17 in /usr/local/lib/python3.10/dist-packages (from requests<3,>=2->langchain-community) (2024.8.30)\n",
            "Requirement already satisfied: greenlet!=0.4.17 in /usr/local/lib/python3.10/dist-packages (from SQLAlchemy<2.0.36,>=1.4->langchain-community) (3.1.1)\n",
            "Requirement already satisfied: anyio in /usr/local/lib/python3.10/dist-packages (from httpx<1,>=0.23.0->langsmith<0.2.0,>=0.1.125->langchain-community) (3.7.1)\n",
            "Requirement already satisfied: httpcore==1.* in /usr/local/lib/python3.10/dist-packages (from httpx<1,>=0.23.0->langsmith<0.2.0,>=0.1.125->langchain-community) (1.0.6)\n",
            "Requirement already satisfied: sniffio in /usr/local/lib/python3.10/dist-packages (from httpx<1,>=0.23.0->langsmith<0.2.0,>=0.1.125->langchain-community) (1.3.1)\n",
            "Requirement already satisfied: h11<0.15,>=0.13 in /usr/local/lib/python3.10/dist-packages (from httpcore==1.*->httpx<1,>=0.23.0->langsmith<0.2.0,>=0.1.125->langchain-community) (0.14.0)\n",
            "Requirement already satisfied: jsonpointer>=1.9 in /usr/local/lib/python3.10/dist-packages (from jsonpatch<2.0,>=1.33->langchain-core<0.4.0,>=0.3.15->langchain-community) (3.0.0)\n",
            "Requirement already satisfied: annotated-types>=0.6.0 in /usr/local/lib/python3.10/dist-packages (from pydantic<3.0.0,>=2.7.4->langchain<0.4.0,>=0.3.6->langchain-community) (0.7.0)\n",
            "Requirement already satisfied: pydantic-core==2.23.4 in /usr/local/lib/python3.10/dist-packages (from pydantic<3.0.0,>=2.7.4->langchain<0.4.0,>=0.3.6->langchain-community) (2.23.4)\n",
            "Collecting mypy-extensions>=0.3.0 (from typing-inspect<1,>=0.4.0->dataclasses-json<0.7,>=0.5.7->langchain-community)\n",
            "  Downloading mypy_extensions-1.0.0-py3-none-any.whl.metadata (1.1 kB)\n",
            "Requirement already satisfied: propcache>=0.2.0 in /usr/local/lib/python3.10/dist-packages (from yarl<2.0,>=1.12.0->aiohttp<4.0.0,>=3.8.3->langchain-community) (0.2.0)\n",
            "Requirement already satisfied: exceptiongroup in /usr/local/lib/python3.10/dist-packages (from anyio->httpx<1,>=0.23.0->langsmith<0.2.0,>=0.1.125->langchain-community) (1.2.2)\n",
            "Downloading langchain_community-0.3.5-py3-none-any.whl (2.4 MB)\n",
            "\u001b[2K   \u001b[90m━━━━━━━━━━━━━━━━━━━━━━━━━━━━━━━━━━━━━━━━\u001b[0m \u001b[32m2.4/2.4 MB\u001b[0m \u001b[31m28.4 MB/s\u001b[0m eta \u001b[36m0:00:00\u001b[0m\n",
            "\u001b[?25hDownloading dataclasses_json-0.6.7-py3-none-any.whl (28 kB)\n",
            "Downloading httpx_sse-0.4.0-py3-none-any.whl (7.8 kB)\n",
            "Downloading langchain-0.3.7-py3-none-any.whl (1.0 MB)\n",
            "\u001b[2K   \u001b[90m━━━━━━━━━━━━━━━━━━━━━━━━━━━━━━━━━━━━━━━━\u001b[0m \u001b[32m1.0/1.0 MB\u001b[0m \u001b[31m47.7 MB/s\u001b[0m eta \u001b[36m0:00:00\u001b[0m\n",
            "\u001b[?25hDownloading langchain_core-0.3.15-py3-none-any.whl (408 kB)\n",
            "\u001b[2K   \u001b[90m━━━━━━━━━━━━━━━━━━━━━━━━━━━━━━━━━━━━━━━━\u001b[0m \u001b[32m408.7/408.7 kB\u001b[0m \u001b[31m26.7 MB/s\u001b[0m eta \u001b[36m0:00:00\u001b[0m\n",
            "\u001b[?25hDownloading pydantic_settings-2.6.1-py3-none-any.whl (28 kB)\n",
            "Downloading SQLAlchemy-2.0.35-cp310-cp310-manylinux_2_17_x86_64.manylinux2014_x86_64.whl (3.1 MB)\n",
            "\u001b[2K   \u001b[90m━━━━━━━━━━━━━━━━━━━━━━━━━━━━━━━━━━━━━━━━\u001b[0m \u001b[32m3.1/3.1 MB\u001b[0m \u001b[31m72.2 MB/s\u001b[0m eta \u001b[36m0:00:00\u001b[0m\n",
            "\u001b[?25hDownloading marshmallow-3.23.1-py3-none-any.whl (49 kB)\n",
            "\u001b[2K   \u001b[90m━━━━━━━━━━━━━━━━━━━━━━━━━━━━━━━━━━━━━━━━\u001b[0m \u001b[32m49.5/49.5 kB\u001b[0m \u001b[31m3.4 MB/s\u001b[0m eta \u001b[36m0:00:00\u001b[0m\n",
            "\u001b[?25hDownloading python_dotenv-1.0.1-py3-none-any.whl (19 kB)\n",
            "Downloading typing_inspect-0.9.0-py3-none-any.whl (8.8 kB)\n",
            "Downloading mypy_extensions-1.0.0-py3-none-any.whl (4.7 kB)\n",
            "Installing collected packages: SQLAlchemy, python-dotenv, mypy-extensions, marshmallow, httpx-sse, typing-inspect, pydantic-settings, dataclasses-json, langchain-core, langchain, langchain-community\n",
            "  Attempting uninstall: SQLAlchemy\n",
            "    Found existing installation: SQLAlchemy 2.0.36\n",
            "    Uninstalling SQLAlchemy-2.0.36:\n",
            "      Successfully uninstalled SQLAlchemy-2.0.36\n",
            "  Attempting uninstall: langchain-core\n",
            "    Found existing installation: langchain-core 0.3.13\n",
            "    Uninstalling langchain-core-0.3.13:\n",
            "      Successfully uninstalled langchain-core-0.3.13\n",
            "  Attempting uninstall: langchain\n",
            "    Found existing installation: langchain 0.3.4\n",
            "    Uninstalling langchain-0.3.4:\n",
            "      Successfully uninstalled langchain-0.3.4\n",
            "Successfully installed SQLAlchemy-2.0.35 dataclasses-json-0.6.7 httpx-sse-0.4.0 langchain-0.3.7 langchain-community-0.3.5 langchain-core-0.3.15 marshmallow-3.23.1 mypy-extensions-1.0.0 pydantic-settings-2.6.1 python-dotenv-1.0.1 typing-inspect-0.9.0\n",
            "Collecting tiktoken\n",
            "  Downloading tiktoken-0.8.0-cp310-cp310-manylinux_2_17_x86_64.manylinux2014_x86_64.whl.metadata (6.6 kB)\n",
            "Requirement already satisfied: regex>=2022.1.18 in /usr/local/lib/python3.10/dist-packages (from tiktoken) (2024.9.11)\n",
            "Requirement already satisfied: requests>=2.26.0 in /usr/local/lib/python3.10/dist-packages (from tiktoken) (2.32.3)\n",
            "Requirement already satisfied: charset-normalizer<4,>=2 in /usr/local/lib/python3.10/dist-packages (from requests>=2.26.0->tiktoken) (3.4.0)\n",
            "Requirement already satisfied: idna<4,>=2.5 in /usr/local/lib/python3.10/dist-packages (from requests>=2.26.0->tiktoken) (3.10)\n",
            "Requirement already satisfied: urllib3<3,>=1.21.1 in /usr/local/lib/python3.10/dist-packages (from requests>=2.26.0->tiktoken) (2.2.3)\n",
            "Requirement already satisfied: certifi>=2017.4.17 in /usr/local/lib/python3.10/dist-packages (from requests>=2.26.0->tiktoken) (2024.8.30)\n",
            "Downloading tiktoken-0.8.0-cp310-cp310-manylinux_2_17_x86_64.manylinux2014_x86_64.whl (1.2 MB)\n",
            "\u001b[2K   \u001b[90m━━━━━━━━━━━━━━━━━━━━━━━━━━━━━━━━━━━━━━━━\u001b[0m \u001b[32m1.2/1.2 MB\u001b[0m \u001b[31m7.3 MB/s\u001b[0m eta \u001b[36m0:00:00\u001b[0m\n",
            "\u001b[?25hInstalling collected packages: tiktoken\n",
            "Successfully installed tiktoken-0.8.0\n",
            "Collecting faiss-cpu\n",
            "  Downloading faiss_cpu-1.9.0-cp310-cp310-manylinux_2_17_x86_64.manylinux2014_x86_64.whl.metadata (4.4 kB)\n",
            "Requirement already satisfied: numpy<3.0,>=1.25.0 in /usr/local/lib/python3.10/dist-packages (from faiss-cpu) (1.26.4)\n",
            "Requirement already satisfied: packaging in /usr/local/lib/python3.10/dist-packages (from faiss-cpu) (24.1)\n",
            "Downloading faiss_cpu-1.9.0-cp310-cp310-manylinux_2_17_x86_64.manylinux2014_x86_64.whl (27.5 MB)\n",
            "\u001b[2K   \u001b[90m━━━━━━━━━━━━━━━━━━━━━━━━━━━━━━━━━━━━━━━━\u001b[0m \u001b[32m27.5/27.5 MB\u001b[0m \u001b[31m44.3 MB/s\u001b[0m eta \u001b[36m0:00:00\u001b[0m\n",
            "\u001b[?25hInstalling collected packages: faiss-cpu\n",
            "Successfully installed faiss-cpu-1.9.0\n"
          ]
        }
      ],
      "source": [
        "!pip install langchain-community\n",
        "!pip install tiktoken\n",
        "!pip install faiss-cpu"
      ]
    },
    {
      "cell_type": "markdown",
      "source": [
        "Dataset - https://www.kaggle.com/datasets/radek1/additional-train-data-for-llm-science-exam?select=extra_train_set.csv"
      ],
      "metadata": {
        "id": "XPnM_A4pyPmN"
      }
    },
    {
      "cell_type": "code",
      "source": [
        "import pandas as pd\n",
        "\n",
        "data = pd.read_csv('/content/exam-science-llm.csv')"
      ],
      "metadata": {
        "id": "L3O9PXKEpLRX"
      },
      "execution_count": 7,
      "outputs": []
    },
    {
      "cell_type": "code",
      "source": [
        "data.columns"
      ],
      "metadata": {
        "colab": {
          "base_uri": "https://localhost:8080/"
        },
        "id": "8-F21vo3pXRR",
        "outputId": "4126dfc9-1c01-4667-91a3-952fd20992cc"
      },
      "execution_count": 8,
      "outputs": [
        {
          "output_type": "execute_result",
          "data": {
            "text/plain": [
              "Index(['prompt', 'C', 'E', 'D', 'B', 'A', 'answer'], dtype='object')"
            ]
          },
          "metadata": {},
          "execution_count": 8
        }
      ]
    },
    {
      "cell_type": "code",
      "source": [
        "data['prompt'].value_counts()"
      ],
      "metadata": {
        "colab": {
          "base_uri": "https://localhost:8080/",
          "height": 490
        },
        "id": "s36RvkvmprxJ",
        "outputId": "07d3481e-08aa-4261-e570-c73cfda28a70"
      },
      "execution_count": 9,
      "outputs": [
        {
          "output_type": "execute_result",
          "data": {
            "text/plain": [
              "prompt\n",
              "In relation to Eunice Fay McKenzie's career, which statement accurately reflects her most notable work?                  1\n",
              "What is the main economic activity of Pierpont Township in Ashtabula County, Ohio?                                       1\n",
              "In which family does Gudeodiscus anceyi belong?                                                                          1\n",
              "What was the recognition received by Eartha Kitt's album \"Back in Business\" at the 38th Annual Grammy Awards in 1996?    1\n",
              "What happened in 1956 that resulted in the transfer of canal operation to the state-owned Suez Canal Authority?          1\n",
              "                                                                                                                        ..\n",
              "What is the campus of La Jolla High School surrounded by?                                                                1\n",
              "What is the geographical location of IFK Kalix, a Swedish football club?                                                 1\n",
              "What is the population of Dickeyville, a village in Grant County, Wisconsin?                                             1\n",
              "Who recorded the song \"You Got It\"?                                                                                      1\n",
              "What is the significance of Groot Aub?                                                                                   1\n",
              "Name: count, Length: 500, dtype: int64"
            ],
            "text/html": [
              "<div>\n",
              "<style scoped>\n",
              "    .dataframe tbody tr th:only-of-type {\n",
              "        vertical-align: middle;\n",
              "    }\n",
              "\n",
              "    .dataframe tbody tr th {\n",
              "        vertical-align: top;\n",
              "    }\n",
              "\n",
              "    .dataframe thead th {\n",
              "        text-align: right;\n",
              "    }\n",
              "</style>\n",
              "<table border=\"1\" class=\"dataframe\">\n",
              "  <thead>\n",
              "    <tr style=\"text-align: right;\">\n",
              "      <th></th>\n",
              "      <th>count</th>\n",
              "    </tr>\n",
              "    <tr>\n",
              "      <th>prompt</th>\n",
              "      <th></th>\n",
              "    </tr>\n",
              "  </thead>\n",
              "  <tbody>\n",
              "    <tr>\n",
              "      <th>In relation to Eunice Fay McKenzie's career, which statement accurately reflects her most notable work?</th>\n",
              "      <td>1</td>\n",
              "    </tr>\n",
              "    <tr>\n",
              "      <th>What is the main economic activity of Pierpont Township in Ashtabula County, Ohio?</th>\n",
              "      <td>1</td>\n",
              "    </tr>\n",
              "    <tr>\n",
              "      <th>In which family does Gudeodiscus anceyi belong?</th>\n",
              "      <td>1</td>\n",
              "    </tr>\n",
              "    <tr>\n",
              "      <th>What was the recognition received by Eartha Kitt's album \"Back in Business\" at the 38th Annual Grammy Awards in 1996?</th>\n",
              "      <td>1</td>\n",
              "    </tr>\n",
              "    <tr>\n",
              "      <th>What happened in 1956 that resulted in the transfer of canal operation to the state-owned Suez Canal Authority?</th>\n",
              "      <td>1</td>\n",
              "    </tr>\n",
              "    <tr>\n",
              "      <th>...</th>\n",
              "      <td>...</td>\n",
              "    </tr>\n",
              "    <tr>\n",
              "      <th>What is the campus of La Jolla High School surrounded by?</th>\n",
              "      <td>1</td>\n",
              "    </tr>\n",
              "    <tr>\n",
              "      <th>What is the geographical location of IFK Kalix, a Swedish football club?</th>\n",
              "      <td>1</td>\n",
              "    </tr>\n",
              "    <tr>\n",
              "      <th>What is the population of Dickeyville, a village in Grant County, Wisconsin?</th>\n",
              "      <td>1</td>\n",
              "    </tr>\n",
              "    <tr>\n",
              "      <th>Who recorded the song \"You Got It\"?</th>\n",
              "      <td>1</td>\n",
              "    </tr>\n",
              "    <tr>\n",
              "      <th>What is the significance of Groot Aub?</th>\n",
              "      <td>1</td>\n",
              "    </tr>\n",
              "  </tbody>\n",
              "</table>\n",
              "<p>500 rows × 1 columns</p>\n",
              "</div><br><label><b>dtype:</b> int64</label>"
            ]
          },
          "metadata": {},
          "execution_count": 9
        }
      ]
    },
    {
      "cell_type": "markdown",
      "source": [
        "Vector Store - These are like special filing cabinets for the number patterns (vectors) created by embedding models. When you want to find similar text later, the vector store helps you quickly find vectors that are close to each other. It's like organizing books by topic, but with numbers instead."
      ],
      "metadata": {
        "id": "CNvT1ikSwtec"
      }
    },
    {
      "cell_type": "code",
      "source": [
        "from langchain.document_loaders import TextLoader\n",
        "from langchain.embeddings.openai import OpenAIEmbeddings\n",
        "from langchain.text_splitter import CharacterTextSplitter\n",
        "from langchain.vectorstores import FAISS\n",
        "from dotenv import load_dotenv\n",
        "import os\n",
        "\n",
        "load_dotenv()\n",
        "\n",
        "os.environ[\"OPENAI_API_KEY\"] = 'Insert Your API KEY'\n",
        "\n",
        "# Load the document, split it into chunks, embed each chunk and load it into the vector store.\n",
        "# Insert question & answer csv file\n",
        "raw_documents = TextLoader('/content/exam-science-llm.csv').load()\n",
        "text_splitter = CharacterTextSplitter(chunk_size=200, chunk_overlap=0, separator = \"\\n\",)\n",
        "documents = text_splitter.split_documents(raw_documents)\n",
        "db = FAISS.from_documents(documents, OpenAIEmbeddings())"
      ],
      "metadata": {
        "colab": {
          "base_uri": "https://localhost:8080/"
        },
        "id": "KdcTUh6apxax",
        "outputId": "d6ac1b89-9f4e-4069-e7fa-57a01d1d350f"
      },
      "execution_count": 15,
      "outputs": [
        {
          "output_type": "stream",
          "name": "stderr",
          "text": [
            "WARNING:langchain_text_splitters.base:Created a chunk of size 636, which is longer than the specified 200\n",
            "WARNING:langchain_text_splitters.base:Created a chunk of size 959, which is longer than the specified 200\n",
            "WARNING:langchain_text_splitters.base:Created a chunk of size 668, which is longer than the specified 200\n",
            "WARNING:langchain_text_splitters.base:Created a chunk of size 720, which is longer than the specified 200\n",
            "WARNING:langchain_text_splitters.base:Created a chunk of size 332, which is longer than the specified 200\n",
            "WARNING:langchain_text_splitters.base:Created a chunk of size 592, which is longer than the specified 200\n",
            "WARNING:langchain_text_splitters.base:Created a chunk of size 816, which is longer than the specified 200\n",
            "WARNING:langchain_text_splitters.base:Created a chunk of size 720, which is longer than the specified 200\n",
            "WARNING:langchain_text_splitters.base:Created a chunk of size 570, which is longer than the specified 200\n",
            "WARNING:langchain_text_splitters.base:Created a chunk of size 694, which is longer than the specified 200\n",
            "WARNING:langchain_text_splitters.base:Created a chunk of size 705, which is longer than the specified 200\n",
            "WARNING:langchain_text_splitters.base:Created a chunk of size 474, which is longer than the specified 200\n",
            "WARNING:langchain_text_splitters.base:Created a chunk of size 645, which is longer than the specified 200\n",
            "WARNING:langchain_text_splitters.base:Created a chunk of size 770, which is longer than the specified 200\n",
            "WARNING:langchain_text_splitters.base:Created a chunk of size 598, which is longer than the specified 200\n",
            "WARNING:langchain_text_splitters.base:Created a chunk of size 595, which is longer than the specified 200\n",
            "WARNING:langchain_text_splitters.base:Created a chunk of size 637, which is longer than the specified 200\n",
            "WARNING:langchain_text_splitters.base:Created a chunk of size 726, which is longer than the specified 200\n",
            "WARNING:langchain_text_splitters.base:Created a chunk of size 702, which is longer than the specified 200\n",
            "WARNING:langchain_text_splitters.base:Created a chunk of size 732, which is longer than the specified 200\n",
            "WARNING:langchain_text_splitters.base:Created a chunk of size 222, which is longer than the specified 200\n",
            "WARNING:langchain_text_splitters.base:Created a chunk of size 852, which is longer than the specified 200\n",
            "WARNING:langchain_text_splitters.base:Created a chunk of size 759, which is longer than the specified 200\n",
            "WARNING:langchain_text_splitters.base:Created a chunk of size 682, which is longer than the specified 200\n",
            "WARNING:langchain_text_splitters.base:Created a chunk of size 835, which is longer than the specified 200\n",
            "WARNING:langchain_text_splitters.base:Created a chunk of size 632, which is longer than the specified 200\n",
            "WARNING:langchain_text_splitters.base:Created a chunk of size 1008, which is longer than the specified 200\n",
            "WARNING:langchain_text_splitters.base:Created a chunk of size 1038, which is longer than the specified 200\n",
            "WARNING:langchain_text_splitters.base:Created a chunk of size 737, which is longer than the specified 200\n",
            "WARNING:langchain_text_splitters.base:Created a chunk of size 797, which is longer than the specified 200\n",
            "WARNING:langchain_text_splitters.base:Created a chunk of size 642, which is longer than the specified 200\n",
            "WARNING:langchain_text_splitters.base:Created a chunk of size 877, which is longer than the specified 200\n",
            "WARNING:langchain_text_splitters.base:Created a chunk of size 569, which is longer than the specified 200\n",
            "WARNING:langchain_text_splitters.base:Created a chunk of size 686, which is longer than the specified 200\n",
            "WARNING:langchain_text_splitters.base:Created a chunk of size 727, which is longer than the specified 200\n",
            "WARNING:langchain_text_splitters.base:Created a chunk of size 704, which is longer than the specified 200\n",
            "WARNING:langchain_text_splitters.base:Created a chunk of size 590, which is longer than the specified 200\n",
            "WARNING:langchain_text_splitters.base:Created a chunk of size 716, which is longer than the specified 200\n",
            "WARNING:langchain_text_splitters.base:Created a chunk of size 727, which is longer than the specified 200\n",
            "WARNING:langchain_text_splitters.base:Created a chunk of size 659, which is longer than the specified 200\n",
            "WARNING:langchain_text_splitters.base:Created a chunk of size 672, which is longer than the specified 200\n",
            "WARNING:langchain_text_splitters.base:Created a chunk of size 699, which is longer than the specified 200\n",
            "WARNING:langchain_text_splitters.base:Created a chunk of size 206, which is longer than the specified 200\n",
            "WARNING:langchain_text_splitters.base:Created a chunk of size 1063, which is longer than the specified 200\n",
            "WARNING:langchain_text_splitters.base:Created a chunk of size 543, which is longer than the specified 200\n",
            "WARNING:langchain_text_splitters.base:Created a chunk of size 389, which is longer than the specified 200\n",
            "WARNING:langchain_text_splitters.base:Created a chunk of size 621, which is longer than the specified 200\n",
            "WARNING:langchain_text_splitters.base:Created a chunk of size 573, which is longer than the specified 200\n",
            "WARNING:langchain_text_splitters.base:Created a chunk of size 522, which is longer than the specified 200\n",
            "WARNING:langchain_text_splitters.base:Created a chunk of size 839, which is longer than the specified 200\n",
            "WARNING:langchain_text_splitters.base:Created a chunk of size 743, which is longer than the specified 200\n",
            "WARNING:langchain_text_splitters.base:Created a chunk of size 740, which is longer than the specified 200\n",
            "WARNING:langchain_text_splitters.base:Created a chunk of size 472, which is longer than the specified 200\n",
            "WARNING:langchain_text_splitters.base:Created a chunk of size 695, which is longer than the specified 200\n",
            "WARNING:langchain_text_splitters.base:Created a chunk of size 1148, which is longer than the specified 200\n",
            "WARNING:langchain_text_splitters.base:Created a chunk of size 708, which is longer than the specified 200\n",
            "WARNING:langchain_text_splitters.base:Created a chunk of size 1179, which is longer than the specified 200\n",
            "WARNING:langchain_text_splitters.base:Created a chunk of size 661, which is longer than the specified 200\n",
            "WARNING:langchain_text_splitters.base:Created a chunk of size 287, which is longer than the specified 200\n",
            "WARNING:langchain_text_splitters.base:Created a chunk of size 704, which is longer than the specified 200\n",
            "WARNING:langchain_text_splitters.base:Created a chunk of size 1058, which is longer than the specified 200\n",
            "WARNING:langchain_text_splitters.base:Created a chunk of size 318, which is longer than the specified 200\n",
            "WARNING:langchain_text_splitters.base:Created a chunk of size 619, which is longer than the specified 200\n",
            "WARNING:langchain_text_splitters.base:Created a chunk of size 885, which is longer than the specified 200\n",
            "WARNING:langchain_text_splitters.base:Created a chunk of size 697, which is longer than the specified 200\n",
            "WARNING:langchain_text_splitters.base:Created a chunk of size 603, which is longer than the specified 200\n",
            "WARNING:langchain_text_splitters.base:Created a chunk of size 760, which is longer than the specified 200\n",
            "WARNING:langchain_text_splitters.base:Created a chunk of size 240, which is longer than the specified 200\n",
            "WARNING:langchain_text_splitters.base:Created a chunk of size 375, which is longer than the specified 200\n",
            "WARNING:langchain_text_splitters.base:Created a chunk of size 980, which is longer than the specified 200\n",
            "WARNING:langchain_text_splitters.base:Created a chunk of size 634, which is longer than the specified 200\n",
            "WARNING:langchain_text_splitters.base:Created a chunk of size 629, which is longer than the specified 200\n",
            "WARNING:langchain_text_splitters.base:Created a chunk of size 722, which is longer than the specified 200\n",
            "WARNING:langchain_text_splitters.base:Created a chunk of size 643, which is longer than the specified 200\n",
            "WARNING:langchain_text_splitters.base:Created a chunk of size 590, which is longer than the specified 200\n",
            "WARNING:langchain_text_splitters.base:Created a chunk of size 723, which is longer than the specified 200\n",
            "WARNING:langchain_text_splitters.base:Created a chunk of size 862, which is longer than the specified 200\n",
            "WARNING:langchain_text_splitters.base:Created a chunk of size 673, which is longer than the specified 200\n",
            "WARNING:langchain_text_splitters.base:Created a chunk of size 721, which is longer than the specified 200\n",
            "WARNING:langchain_text_splitters.base:Created a chunk of size 653, which is longer than the specified 200\n",
            "WARNING:langchain_text_splitters.base:Created a chunk of size 724, which is longer than the specified 200\n",
            "WARNING:langchain_text_splitters.base:Created a chunk of size 568, which is longer than the specified 200\n",
            "WARNING:langchain_text_splitters.base:Created a chunk of size 869, which is longer than the specified 200\n",
            "WARNING:langchain_text_splitters.base:Created a chunk of size 1316, which is longer than the specified 200\n",
            "WARNING:langchain_text_splitters.base:Created a chunk of size 833, which is longer than the specified 200\n",
            "WARNING:langchain_text_splitters.base:Created a chunk of size 657, which is longer than the specified 200\n",
            "WARNING:langchain_text_splitters.base:Created a chunk of size 730, which is longer than the specified 200\n",
            "WARNING:langchain_text_splitters.base:Created a chunk of size 567, which is longer than the specified 200\n",
            "WARNING:langchain_text_splitters.base:Created a chunk of size 664, which is longer than the specified 200\n",
            "WARNING:langchain_text_splitters.base:Created a chunk of size 388, which is longer than the specified 200\n",
            "WARNING:langchain_text_splitters.base:Created a chunk of size 537, which is longer than the specified 200\n",
            "WARNING:langchain_text_splitters.base:Created a chunk of size 1092, which is longer than the specified 200\n",
            "WARNING:langchain_text_splitters.base:Created a chunk of size 596, which is longer than the specified 200\n",
            "WARNING:langchain_text_splitters.base:Created a chunk of size 509, which is longer than the specified 200\n",
            "WARNING:langchain_text_splitters.base:Created a chunk of size 220, which is longer than the specified 200\n",
            "WARNING:langchain_text_splitters.base:Created a chunk of size 517, which is longer than the specified 200\n",
            "WARNING:langchain_text_splitters.base:Created a chunk of size 866, which is longer than the specified 200\n",
            "WARNING:langchain_text_splitters.base:Created a chunk of size 765, which is longer than the specified 200\n",
            "WARNING:langchain_text_splitters.base:Created a chunk of size 410, which is longer than the specified 200\n",
            "WARNING:langchain_text_splitters.base:Created a chunk of size 837, which is longer than the specified 200\n",
            "WARNING:langchain_text_splitters.base:Created a chunk of size 558, which is longer than the specified 200\n",
            "WARNING:langchain_text_splitters.base:Created a chunk of size 504, which is longer than the specified 200\n",
            "WARNING:langchain_text_splitters.base:Created a chunk of size 1222, which is longer than the specified 200\n",
            "WARNING:langchain_text_splitters.base:Created a chunk of size 529, which is longer than the specified 200\n",
            "WARNING:langchain_text_splitters.base:Created a chunk of size 485, which is longer than the specified 200\n",
            "WARNING:langchain_text_splitters.base:Created a chunk of size 571, which is longer than the specified 200\n",
            "WARNING:langchain_text_splitters.base:Created a chunk of size 352, which is longer than the specified 200\n",
            "WARNING:langchain_text_splitters.base:Created a chunk of size 757, which is longer than the specified 200\n",
            "WARNING:langchain_text_splitters.base:Created a chunk of size 277, which is longer than the specified 200\n",
            "WARNING:langchain_text_splitters.base:Created a chunk of size 543, which is longer than the specified 200\n",
            "WARNING:langchain_text_splitters.base:Created a chunk of size 480, which is longer than the specified 200\n",
            "WARNING:langchain_text_splitters.base:Created a chunk of size 510, which is longer than the specified 200\n",
            "WARNING:langchain_text_splitters.base:Created a chunk of size 539, which is longer than the specified 200\n",
            "WARNING:langchain_text_splitters.base:Created a chunk of size 485, which is longer than the specified 200\n",
            "WARNING:langchain_text_splitters.base:Created a chunk of size 295, which is longer than the specified 200\n",
            "WARNING:langchain_text_splitters.base:Created a chunk of size 568, which is longer than the specified 200\n",
            "WARNING:langchain_text_splitters.base:Created a chunk of size 281, which is longer than the specified 200\n",
            "WARNING:langchain_text_splitters.base:Created a chunk of size 514, which is longer than the specified 200\n",
            "WARNING:langchain_text_splitters.base:Created a chunk of size 427, which is longer than the specified 200\n",
            "WARNING:langchain_text_splitters.base:Created a chunk of size 535, which is longer than the specified 200\n",
            "WARNING:langchain_text_splitters.base:Created a chunk of size 718, which is longer than the specified 200\n",
            "WARNING:langchain_text_splitters.base:Created a chunk of size 423, which is longer than the specified 200\n",
            "WARNING:langchain_text_splitters.base:Created a chunk of size 258, which is longer than the specified 200\n",
            "WARNING:langchain_text_splitters.base:Created a chunk of size 859, which is longer than the specified 200\n",
            "WARNING:langchain_text_splitters.base:Created a chunk of size 710, which is longer than the specified 200\n",
            "WARNING:langchain_text_splitters.base:Created a chunk of size 795, which is longer than the specified 200\n",
            "WARNING:langchain_text_splitters.base:Created a chunk of size 677, which is longer than the specified 200\n",
            "WARNING:langchain_text_splitters.base:Created a chunk of size 217, which is longer than the specified 200\n",
            "WARNING:langchain_text_splitters.base:Created a chunk of size 645, which is longer than the specified 200\n",
            "WARNING:langchain_text_splitters.base:Created a chunk of size 769, which is longer than the specified 200\n",
            "WARNING:langchain_text_splitters.base:Created a chunk of size 706, which is longer than the specified 200\n",
            "WARNING:langchain_text_splitters.base:Created a chunk of size 662, which is longer than the specified 200\n",
            "WARNING:langchain_text_splitters.base:Created a chunk of size 349, which is longer than the specified 200\n",
            "WARNING:langchain_text_splitters.base:Created a chunk of size 394, which is longer than the specified 200\n",
            "WARNING:langchain_text_splitters.base:Created a chunk of size 373, which is longer than the specified 200\n",
            "WARNING:langchain_text_splitters.base:Created a chunk of size 672, which is longer than the specified 200\n",
            "WARNING:langchain_text_splitters.base:Created a chunk of size 422, which is longer than the specified 200\n",
            "WARNING:langchain_text_splitters.base:Created a chunk of size 361, which is longer than the specified 200\n",
            "WARNING:langchain_text_splitters.base:Created a chunk of size 396, which is longer than the specified 200\n",
            "WARNING:langchain_text_splitters.base:Created a chunk of size 537, which is longer than the specified 200\n",
            "WARNING:langchain_text_splitters.base:Created a chunk of size 452, which is longer than the specified 200\n",
            "WARNING:langchain_text_splitters.base:Created a chunk of size 410, which is longer than the specified 200\n",
            "WARNING:langchain_text_splitters.base:Created a chunk of size 668, which is longer than the specified 200\n",
            "WARNING:langchain_text_splitters.base:Created a chunk of size 1179, which is longer than the specified 200\n",
            "WARNING:langchain_text_splitters.base:Created a chunk of size 386, which is longer than the specified 200\n",
            "WARNING:langchain_text_splitters.base:Created a chunk of size 333, which is longer than the specified 200\n",
            "WARNING:langchain_text_splitters.base:Created a chunk of size 407, which is longer than the specified 200\n",
            "WARNING:langchain_text_splitters.base:Created a chunk of size 294, which is longer than the specified 200\n",
            "WARNING:langchain_text_splitters.base:Created a chunk of size 635, which is longer than the specified 200\n",
            "WARNING:langchain_text_splitters.base:Created a chunk of size 630, which is longer than the specified 200\n",
            "WARNING:langchain_text_splitters.base:Created a chunk of size 496, which is longer than the specified 200\n",
            "WARNING:langchain_text_splitters.base:Created a chunk of size 1270, which is longer than the specified 200\n",
            "WARNING:langchain_text_splitters.base:Created a chunk of size 688, which is longer than the specified 200\n",
            "WARNING:langchain_text_splitters.base:Created a chunk of size 361, which is longer than the specified 200\n",
            "WARNING:langchain_text_splitters.base:Created a chunk of size 475, which is longer than the specified 200\n",
            "WARNING:langchain_text_splitters.base:Created a chunk of size 471, which is longer than the specified 200\n",
            "WARNING:langchain_text_splitters.base:Created a chunk of size 483, which is longer than the specified 200\n",
            "WARNING:langchain_text_splitters.base:Created a chunk of size 888, which is longer than the specified 200\n",
            "WARNING:langchain_text_splitters.base:Created a chunk of size 504, which is longer than the specified 200\n",
            "WARNING:langchain_text_splitters.base:Created a chunk of size 228, which is longer than the specified 200\n",
            "WARNING:langchain_text_splitters.base:Created a chunk of size 786, which is longer than the specified 200\n",
            "WARNING:langchain_text_splitters.base:Created a chunk of size 361, which is longer than the specified 200\n",
            "WARNING:langchain_text_splitters.base:Created a chunk of size 582, which is longer than the specified 200\n",
            "WARNING:langchain_text_splitters.base:Created a chunk of size 247, which is longer than the specified 200\n",
            "WARNING:langchain_text_splitters.base:Created a chunk of size 439, which is longer than the specified 200\n",
            "WARNING:langchain_text_splitters.base:Created a chunk of size 318, which is longer than the specified 200\n",
            "WARNING:langchain_text_splitters.base:Created a chunk of size 463, which is longer than the specified 200\n",
            "WARNING:langchain_text_splitters.base:Created a chunk of size 636, which is longer than the specified 200\n",
            "WARNING:langchain_text_splitters.base:Created a chunk of size 501, which is longer than the specified 200\n",
            "WARNING:langchain_text_splitters.base:Created a chunk of size 239, which is longer than the specified 200\n",
            "WARNING:langchain_text_splitters.base:Created a chunk of size 537, which is longer than the specified 200\n",
            "WARNING:langchain_text_splitters.base:Created a chunk of size 340, which is longer than the specified 200\n",
            "WARNING:langchain_text_splitters.base:Created a chunk of size 226, which is longer than the specified 200\n",
            "WARNING:langchain_text_splitters.base:Created a chunk of size 479, which is longer than the specified 200\n",
            "WARNING:langchain_text_splitters.base:Created a chunk of size 201, which is longer than the specified 200\n",
            "WARNING:langchain_text_splitters.base:Created a chunk of size 236, which is longer than the specified 200\n",
            "WARNING:langchain_text_splitters.base:Created a chunk of size 376, which is longer than the specified 200\n",
            "WARNING:langchain_text_splitters.base:Created a chunk of size 781, which is longer than the specified 200\n",
            "WARNING:langchain_text_splitters.base:Created a chunk of size 605, which is longer than the specified 200\n",
            "WARNING:langchain_text_splitters.base:Created a chunk of size 507, which is longer than the specified 200\n",
            "WARNING:langchain_text_splitters.base:Created a chunk of size 311, which is longer than the specified 200\n",
            "WARNING:langchain_text_splitters.base:Created a chunk of size 616, which is longer than the specified 200\n",
            "WARNING:langchain_text_splitters.base:Created a chunk of size 276, which is longer than the specified 200\n",
            "WARNING:langchain_text_splitters.base:Created a chunk of size 624, which is longer than the specified 200\n",
            "WARNING:langchain_text_splitters.base:Created a chunk of size 439, which is longer than the specified 200\n",
            "WARNING:langchain_text_splitters.base:Created a chunk of size 390, which is longer than the specified 200\n",
            "WARNING:langchain_text_splitters.base:Created a chunk of size 429, which is longer than the specified 200\n",
            "WARNING:langchain_text_splitters.base:Created a chunk of size 516, which is longer than the specified 200\n",
            "WARNING:langchain_text_splitters.base:Created a chunk of size 558, which is longer than the specified 200\n",
            "WARNING:langchain_text_splitters.base:Created a chunk of size 481, which is longer than the specified 200\n",
            "WARNING:langchain_text_splitters.base:Created a chunk of size 308, which is longer than the specified 200\n",
            "WARNING:langchain_text_splitters.base:Created a chunk of size 571, which is longer than the specified 200\n",
            "WARNING:langchain_text_splitters.base:Created a chunk of size 447, which is longer than the specified 200\n",
            "WARNING:langchain_text_splitters.base:Created a chunk of size 359, which is longer than the specified 200\n",
            "WARNING:langchain_text_splitters.base:Created a chunk of size 434, which is longer than the specified 200\n",
            "WARNING:langchain_text_splitters.base:Created a chunk of size 430, which is longer than the specified 200\n",
            "WARNING:langchain_text_splitters.base:Created a chunk of size 355, which is longer than the specified 200\n",
            "WARNING:langchain_text_splitters.base:Created a chunk of size 454, which is longer than the specified 200\n",
            "WARNING:langchain_text_splitters.base:Created a chunk of size 868, which is longer than the specified 200\n",
            "WARNING:langchain_text_splitters.base:Created a chunk of size 627, which is longer than the specified 200\n",
            "WARNING:langchain_text_splitters.base:Created a chunk of size 724, which is longer than the specified 200\n",
            "WARNING:langchain_text_splitters.base:Created a chunk of size 344, which is longer than the specified 200\n",
            "WARNING:langchain_text_splitters.base:Created a chunk of size 553, which is longer than the specified 200\n",
            "WARNING:langchain_text_splitters.base:Created a chunk of size 361, which is longer than the specified 200\n",
            "WARNING:langchain_text_splitters.base:Created a chunk of size 703, which is longer than the specified 200\n",
            "WARNING:langchain_text_splitters.base:Created a chunk of size 671, which is longer than the specified 200\n",
            "WARNING:langchain_text_splitters.base:Created a chunk of size 1003, which is longer than the specified 200\n",
            "WARNING:langchain_text_splitters.base:Created a chunk of size 302, which is longer than the specified 200\n",
            "WARNING:langchain_text_splitters.base:Created a chunk of size 632, which is longer than the specified 200\n",
            "WARNING:langchain_text_splitters.base:Created a chunk of size 401, which is longer than the specified 200\n",
            "WARNING:langchain_text_splitters.base:Created a chunk of size 495, which is longer than the specified 200\n",
            "WARNING:langchain_text_splitters.base:Created a chunk of size 451, which is longer than the specified 200\n",
            "WARNING:langchain_text_splitters.base:Created a chunk of size 749, which is longer than the specified 200\n",
            "WARNING:langchain_text_splitters.base:Created a chunk of size 514, which is longer than the specified 200\n",
            "WARNING:langchain_text_splitters.base:Created a chunk of size 480, which is longer than the specified 200\n",
            "WARNING:langchain_text_splitters.base:Created a chunk of size 373, which is longer than the specified 200\n",
            "WARNING:langchain_text_splitters.base:Created a chunk of size 743, which is longer than the specified 200\n",
            "WARNING:langchain_text_splitters.base:Created a chunk of size 417, which is longer than the specified 200\n",
            "WARNING:langchain_text_splitters.base:Created a chunk of size 407, which is longer than the specified 200\n",
            "WARNING:langchain_text_splitters.base:Created a chunk of size 306, which is longer than the specified 200\n",
            "WARNING:langchain_text_splitters.base:Created a chunk of size 514, which is longer than the specified 200\n",
            "WARNING:langchain_text_splitters.base:Created a chunk of size 372, which is longer than the specified 200\n",
            "WARNING:langchain_text_splitters.base:Created a chunk of size 317, which is longer than the specified 200\n",
            "WARNING:langchain_text_splitters.base:Created a chunk of size 1406, which is longer than the specified 200\n",
            "WARNING:langchain_text_splitters.base:Created a chunk of size 246, which is longer than the specified 200\n",
            "WARNING:langchain_text_splitters.base:Created a chunk of size 339, which is longer than the specified 200\n",
            "WARNING:langchain_text_splitters.base:Created a chunk of size 268, which is longer than the specified 200\n",
            "WARNING:langchain_text_splitters.base:Created a chunk of size 325, which is longer than the specified 200\n",
            "WARNING:langchain_text_splitters.base:Created a chunk of size 730, which is longer than the specified 200\n",
            "WARNING:langchain_text_splitters.base:Created a chunk of size 310, which is longer than the specified 200\n",
            "WARNING:langchain_text_splitters.base:Created a chunk of size 690, which is longer than the specified 200\n",
            "WARNING:langchain_text_splitters.base:Created a chunk of size 366, which is longer than the specified 200\n",
            "WARNING:langchain_text_splitters.base:Created a chunk of size 649, which is longer than the specified 200\n",
            "WARNING:langchain_text_splitters.base:Created a chunk of size 243, which is longer than the specified 200\n",
            "WARNING:langchain_text_splitters.base:Created a chunk of size 663, which is longer than the specified 200\n",
            "WARNING:langchain_text_splitters.base:Created a chunk of size 603, which is longer than the specified 200\n",
            "WARNING:langchain_text_splitters.base:Created a chunk of size 583, which is longer than the specified 200\n",
            "WARNING:langchain_text_splitters.base:Created a chunk of size 208, which is longer than the specified 200\n",
            "WARNING:langchain_text_splitters.base:Created a chunk of size 410, which is longer than the specified 200\n",
            "WARNING:langchain_text_splitters.base:Created a chunk of size 485, which is longer than the specified 200\n",
            "WARNING:langchain_text_splitters.base:Created a chunk of size 541, which is longer than the specified 200\n",
            "WARNING:langchain_text_splitters.base:Created a chunk of size 476, which is longer than the specified 200\n",
            "WARNING:langchain_text_splitters.base:Created a chunk of size 506, which is longer than the specified 200\n",
            "WARNING:langchain_text_splitters.base:Created a chunk of size 337, which is longer than the specified 200\n",
            "WARNING:langchain_text_splitters.base:Created a chunk of size 342, which is longer than the specified 200\n",
            "WARNING:langchain_text_splitters.base:Created a chunk of size 619, which is longer than the specified 200\n",
            "WARNING:langchain_text_splitters.base:Created a chunk of size 669, which is longer than the specified 200\n",
            "WARNING:langchain_text_splitters.base:Created a chunk of size 796, which is longer than the specified 200\n",
            "WARNING:langchain_text_splitters.base:Created a chunk of size 526, which is longer than the specified 200\n",
            "WARNING:langchain_text_splitters.base:Created a chunk of size 755, which is longer than the specified 200\n",
            "WARNING:langchain_text_splitters.base:Created a chunk of size 474, which is longer than the specified 200\n",
            "WARNING:langchain_text_splitters.base:Created a chunk of size 402, which is longer than the specified 200\n",
            "WARNING:langchain_text_splitters.base:Created a chunk of size 573, which is longer than the specified 200\n",
            "WARNING:langchain_text_splitters.base:Created a chunk of size 675, which is longer than the specified 200\n",
            "WARNING:langchain_text_splitters.base:Created a chunk of size 550, which is longer than the specified 200\n",
            "WARNING:langchain_text_splitters.base:Created a chunk of size 332, which is longer than the specified 200\n",
            "WARNING:langchain_text_splitters.base:Created a chunk of size 344, which is longer than the specified 200\n",
            "WARNING:langchain_text_splitters.base:Created a chunk of size 451, which is longer than the specified 200\n",
            "WARNING:langchain_text_splitters.base:Created a chunk of size 803, which is longer than the specified 200\n",
            "WARNING:langchain_text_splitters.base:Created a chunk of size 519, which is longer than the specified 200\n",
            "WARNING:langchain_text_splitters.base:Created a chunk of size 359, which is longer than the specified 200\n",
            "WARNING:langchain_text_splitters.base:Created a chunk of size 547, which is longer than the specified 200\n",
            "WARNING:langchain_text_splitters.base:Created a chunk of size 305, which is longer than the specified 200\n",
            "WARNING:langchain_text_splitters.base:Created a chunk of size 336, which is longer than the specified 200\n",
            "WARNING:langchain_text_splitters.base:Created a chunk of size 506, which is longer than the specified 200\n",
            "WARNING:langchain_text_splitters.base:Created a chunk of size 396, which is longer than the specified 200\n",
            "WARNING:langchain_text_splitters.base:Created a chunk of size 493, which is longer than the specified 200\n",
            "WARNING:langchain_text_splitters.base:Created a chunk of size 554, which is longer than the specified 200\n",
            "WARNING:langchain_text_splitters.base:Created a chunk of size 832, which is longer than the specified 200\n",
            "WARNING:langchain_text_splitters.base:Created a chunk of size 659, which is longer than the specified 200\n",
            "WARNING:langchain_text_splitters.base:Created a chunk of size 466, which is longer than the specified 200\n",
            "WARNING:langchain_text_splitters.base:Created a chunk of size 467, which is longer than the specified 200\n",
            "WARNING:langchain_text_splitters.base:Created a chunk of size 591, which is longer than the specified 200\n",
            "WARNING:langchain_text_splitters.base:Created a chunk of size 839, which is longer than the specified 200\n",
            "WARNING:langchain_text_splitters.base:Created a chunk of size 525, which is longer than the specified 200\n",
            "WARNING:langchain_text_splitters.base:Created a chunk of size 318, which is longer than the specified 200\n",
            "WARNING:langchain_text_splitters.base:Created a chunk of size 238, which is longer than the specified 200\n",
            "WARNING:langchain_text_splitters.base:Created a chunk of size 293, which is longer than the specified 200\n",
            "WARNING:langchain_text_splitters.base:Created a chunk of size 547, which is longer than the specified 200\n",
            "WARNING:langchain_text_splitters.base:Created a chunk of size 279, which is longer than the specified 200\n",
            "WARNING:langchain_text_splitters.base:Created a chunk of size 578, which is longer than the specified 200\n",
            "WARNING:langchain_text_splitters.base:Created a chunk of size 848, which is longer than the specified 200\n",
            "WARNING:langchain_text_splitters.base:Created a chunk of size 510, which is longer than the specified 200\n",
            "WARNING:langchain_text_splitters.base:Created a chunk of size 215, which is longer than the specified 200\n",
            "WARNING:langchain_text_splitters.base:Created a chunk of size 368, which is longer than the specified 200\n",
            "WARNING:langchain_text_splitters.base:Created a chunk of size 226, which is longer than the specified 200\n",
            "WARNING:langchain_text_splitters.base:Created a chunk of size 609, which is longer than the specified 200\n",
            "WARNING:langchain_text_splitters.base:Created a chunk of size 892, which is longer than the specified 200\n",
            "WARNING:langchain_text_splitters.base:Created a chunk of size 596, which is longer than the specified 200\n",
            "WARNING:langchain_text_splitters.base:Created a chunk of size 434, which is longer than the specified 200\n",
            "WARNING:langchain_text_splitters.base:Created a chunk of size 263, which is longer than the specified 200\n",
            "WARNING:langchain_text_splitters.base:Created a chunk of size 495, which is longer than the specified 200\n",
            "WARNING:langchain_text_splitters.base:Created a chunk of size 580, which is longer than the specified 200\n",
            "WARNING:langchain_text_splitters.base:Created a chunk of size 466, which is longer than the specified 200\n",
            "WARNING:langchain_text_splitters.base:Created a chunk of size 707, which is longer than the specified 200\n",
            "WARNING:langchain_text_splitters.base:Created a chunk of size 803, which is longer than the specified 200\n",
            "WARNING:langchain_text_splitters.base:Created a chunk of size 376, which is longer than the specified 200\n",
            "WARNING:langchain_text_splitters.base:Created a chunk of size 229, which is longer than the specified 200\n",
            "WARNING:langchain_text_splitters.base:Created a chunk of size 441, which is longer than the specified 200\n",
            "WARNING:langchain_text_splitters.base:Created a chunk of size 448, which is longer than the specified 200\n",
            "WARNING:langchain_text_splitters.base:Created a chunk of size 666, which is longer than the specified 200\n",
            "WARNING:langchain_text_splitters.base:Created a chunk of size 537, which is longer than the specified 200\n",
            "WARNING:langchain_text_splitters.base:Created a chunk of size 353, which is longer than the specified 200\n",
            "WARNING:langchain_text_splitters.base:Created a chunk of size 386, which is longer than the specified 200\n",
            "WARNING:langchain_text_splitters.base:Created a chunk of size 216, which is longer than the specified 200\n",
            "WARNING:langchain_text_splitters.base:Created a chunk of size 439, which is longer than the specified 200\n",
            "WARNING:langchain_text_splitters.base:Created a chunk of size 490, which is longer than the specified 200\n",
            "WARNING:langchain_text_splitters.base:Created a chunk of size 610, which is longer than the specified 200\n",
            "WARNING:langchain_text_splitters.base:Created a chunk of size 302, which is longer than the specified 200\n",
            "WARNING:langchain_text_splitters.base:Created a chunk of size 624, which is longer than the specified 200\n",
            "WARNING:langchain_text_splitters.base:Created a chunk of size 227, which is longer than the specified 200\n",
            "WARNING:langchain_text_splitters.base:Created a chunk of size 494, which is longer than the specified 200\n",
            "WARNING:langchain_text_splitters.base:Created a chunk of size 456, which is longer than the specified 200\n",
            "WARNING:langchain_text_splitters.base:Created a chunk of size 951, which is longer than the specified 200\n",
            "WARNING:langchain_text_splitters.base:Created a chunk of size 643, which is longer than the specified 200\n",
            "WARNING:langchain_text_splitters.base:Created a chunk of size 466, which is longer than the specified 200\n",
            "WARNING:langchain_text_splitters.base:Created a chunk of size 480, which is longer than the specified 200\n",
            "WARNING:langchain_text_splitters.base:Created a chunk of size 230, which is longer than the specified 200\n",
            "WARNING:langchain_text_splitters.base:Created a chunk of size 390, which is longer than the specified 200\n",
            "WARNING:langchain_text_splitters.base:Created a chunk of size 650, which is longer than the specified 200\n",
            "WARNING:langchain_text_splitters.base:Created a chunk of size 527, which is longer than the specified 200\n",
            "WARNING:langchain_text_splitters.base:Created a chunk of size 955, which is longer than the specified 200\n",
            "WARNING:langchain_text_splitters.base:Created a chunk of size 594, which is longer than the specified 200\n",
            "WARNING:langchain_text_splitters.base:Created a chunk of size 975, which is longer than the specified 200\n",
            "WARNING:langchain_text_splitters.base:Created a chunk of size 697, which is longer than the specified 200\n",
            "WARNING:langchain_text_splitters.base:Created a chunk of size 554, which is longer than the specified 200\n",
            "WARNING:langchain_text_splitters.base:Created a chunk of size 873, which is longer than the specified 200\n",
            "WARNING:langchain_text_splitters.base:Created a chunk of size 306, which is longer than the specified 200\n",
            "WARNING:langchain_text_splitters.base:Created a chunk of size 509, which is longer than the specified 200\n",
            "WARNING:langchain_text_splitters.base:Created a chunk of size 429, which is longer than the specified 200\n",
            "WARNING:langchain_text_splitters.base:Created a chunk of size 522, which is longer than the specified 200\n",
            "WARNING:langchain_text_splitters.base:Created a chunk of size 387, which is longer than the specified 200\n",
            "WARNING:langchain_text_splitters.base:Created a chunk of size 873, which is longer than the specified 200\n",
            "WARNING:langchain_text_splitters.base:Created a chunk of size 869, which is longer than the specified 200\n",
            "WARNING:langchain_text_splitters.base:Created a chunk of size 656, which is longer than the specified 200\n",
            "WARNING:langchain_text_splitters.base:Created a chunk of size 474, which is longer than the specified 200\n",
            "WARNING:langchain_text_splitters.base:Created a chunk of size 324, which is longer than the specified 200\n",
            "WARNING:langchain_text_splitters.base:Created a chunk of size 411, which is longer than the specified 200\n",
            "WARNING:langchain_text_splitters.base:Created a chunk of size 897, which is longer than the specified 200\n",
            "WARNING:langchain_text_splitters.base:Created a chunk of size 789, which is longer than the specified 200\n",
            "WARNING:langchain_text_splitters.base:Created a chunk of size 573, which is longer than the specified 200\n",
            "WARNING:langchain_text_splitters.base:Created a chunk of size 447, which is longer than the specified 200\n",
            "WARNING:langchain_text_splitters.base:Created a chunk of size 580, which is longer than the specified 200\n",
            "WARNING:langchain_text_splitters.base:Created a chunk of size 729, which is longer than the specified 200\n",
            "WARNING:langchain_text_splitters.base:Created a chunk of size 526, which is longer than the specified 200\n",
            "WARNING:langchain_text_splitters.base:Created a chunk of size 540, which is longer than the specified 200\n",
            "WARNING:langchain_text_splitters.base:Created a chunk of size 524, which is longer than the specified 200\n",
            "WARNING:langchain_text_splitters.base:Created a chunk of size 567, which is longer than the specified 200\n",
            "WARNING:langchain_text_splitters.base:Created a chunk of size 502, which is longer than the specified 200\n",
            "WARNING:langchain_text_splitters.base:Created a chunk of size 730, which is longer than the specified 200\n",
            "WARNING:langchain_text_splitters.base:Created a chunk of size 442, which is longer than the specified 200\n",
            "WARNING:langchain_text_splitters.base:Created a chunk of size 871, which is longer than the specified 200\n",
            "WARNING:langchain_text_splitters.base:Created a chunk of size 647, which is longer than the specified 200\n",
            "WARNING:langchain_text_splitters.base:Created a chunk of size 526, which is longer than the specified 200\n",
            "WARNING:langchain_text_splitters.base:Created a chunk of size 565, which is longer than the specified 200\n",
            "WARNING:langchain_text_splitters.base:Created a chunk of size 535, which is longer than the specified 200\n",
            "WARNING:langchain_text_splitters.base:Created a chunk of size 776, which is longer than the specified 200\n",
            "WARNING:langchain_text_splitters.base:Created a chunk of size 489, which is longer than the specified 200\n",
            "WARNING:langchain_text_splitters.base:Created a chunk of size 491, which is longer than the specified 200\n",
            "WARNING:langchain_text_splitters.base:Created a chunk of size 652, which is longer than the specified 200\n",
            "WARNING:langchain_text_splitters.base:Created a chunk of size 601, which is longer than the specified 200\n",
            "WARNING:langchain_text_splitters.base:Created a chunk of size 244, which is longer than the specified 200\n",
            "WARNING:langchain_text_splitters.base:Created a chunk of size 317, which is longer than the specified 200\n",
            "WARNING:langchain_text_splitters.base:Created a chunk of size 221, which is longer than the specified 200\n",
            "WARNING:langchain_text_splitters.base:Created a chunk of size 559, which is longer than the specified 200\n",
            "WARNING:langchain_text_splitters.base:Created a chunk of size 669, which is longer than the specified 200\n",
            "WARNING:langchain_text_splitters.base:Created a chunk of size 429, which is longer than the specified 200\n",
            "WARNING:langchain_text_splitters.base:Created a chunk of size 761, which is longer than the specified 200\n",
            "WARNING:langchain_text_splitters.base:Created a chunk of size 650, which is longer than the specified 200\n",
            "WARNING:langchain_text_splitters.base:Created a chunk of size 209, which is longer than the specified 200\n",
            "WARNING:langchain_text_splitters.base:Created a chunk of size 572, which is longer than the specified 200\n",
            "WARNING:langchain_text_splitters.base:Created a chunk of size 425, which is longer than the specified 200\n",
            "WARNING:langchain_text_splitters.base:Created a chunk of size 497, which is longer than the specified 200\n",
            "WARNING:langchain_text_splitters.base:Created a chunk of size 564, which is longer than the specified 200\n",
            "WARNING:langchain_text_splitters.base:Created a chunk of size 285, which is longer than the specified 200\n",
            "WARNING:langchain_text_splitters.base:Created a chunk of size 656, which is longer than the specified 200\n",
            "WARNING:langchain_text_splitters.base:Created a chunk of size 253, which is longer than the specified 200\n",
            "WARNING:langchain_text_splitters.base:Created a chunk of size 528, which is longer than the specified 200\n",
            "WARNING:langchain_text_splitters.base:Created a chunk of size 582, which is longer than the specified 200\n",
            "WARNING:langchain_text_splitters.base:Created a chunk of size 246, which is longer than the specified 200\n",
            "WARNING:langchain_text_splitters.base:Created a chunk of size 617, which is longer than the specified 200\n",
            "WARNING:langchain_text_splitters.base:Created a chunk of size 498, which is longer than the specified 200\n",
            "WARNING:langchain_text_splitters.base:Created a chunk of size 540, which is longer than the specified 200\n",
            "WARNING:langchain_text_splitters.base:Created a chunk of size 514, which is longer than the specified 200\n",
            "WARNING:langchain_text_splitters.base:Created a chunk of size 577, which is longer than the specified 200\n",
            "WARNING:langchain_text_splitters.base:Created a chunk of size 658, which is longer than the specified 200\n",
            "WARNING:langchain_text_splitters.base:Created a chunk of size 703, which is longer than the specified 200\n",
            "WARNING:langchain_text_splitters.base:Created a chunk of size 275, which is longer than the specified 200\n",
            "WARNING:langchain_text_splitters.base:Created a chunk of size 775, which is longer than the specified 200\n",
            "WARNING:langchain_text_splitters.base:Created a chunk of size 351, which is longer than the specified 200\n",
            "WARNING:langchain_text_splitters.base:Created a chunk of size 438, which is longer than the specified 200\n",
            "WARNING:langchain_text_splitters.base:Created a chunk of size 546, which is longer than the specified 200\n",
            "WARNING:langchain_text_splitters.base:Created a chunk of size 765, which is longer than the specified 200\n",
            "WARNING:langchain_text_splitters.base:Created a chunk of size 412, which is longer than the specified 200\n",
            "WARNING:langchain_text_splitters.base:Created a chunk of size 533, which is longer than the specified 200\n",
            "WARNING:langchain_text_splitters.base:Created a chunk of size 204, which is longer than the specified 200\n",
            "WARNING:langchain_text_splitters.base:Created a chunk of size 735, which is longer than the specified 200\n",
            "WARNING:langchain_text_splitters.base:Created a chunk of size 313, which is longer than the specified 200\n",
            "WARNING:langchain_text_splitters.base:Created a chunk of size 672, which is longer than the specified 200\n",
            "WARNING:langchain_text_splitters.base:Created a chunk of size 799, which is longer than the specified 200\n",
            "WARNING:langchain_text_splitters.base:Created a chunk of size 389, which is longer than the specified 200\n",
            "WARNING:langchain_text_splitters.base:Created a chunk of size 444, which is longer than the specified 200\n",
            "WARNING:langchain_text_splitters.base:Created a chunk of size 365, which is longer than the specified 200\n",
            "WARNING:langchain_text_splitters.base:Created a chunk of size 575, which is longer than the specified 200\n",
            "WARNING:langchain_text_splitters.base:Created a chunk of size 573, which is longer than the specified 200\n",
            "WARNING:langchain_text_splitters.base:Created a chunk of size 519, which is longer than the specified 200\n",
            "WARNING:langchain_text_splitters.base:Created a chunk of size 494, which is longer than the specified 200\n",
            "WARNING:langchain_text_splitters.base:Created a chunk of size 363, which is longer than the specified 200\n",
            "WARNING:langchain_text_splitters.base:Created a chunk of size 498, which is longer than the specified 200\n",
            "WARNING:langchain_text_splitters.base:Created a chunk of size 466, which is longer than the specified 200\n",
            "WARNING:langchain_text_splitters.base:Created a chunk of size 625, which is longer than the specified 200\n",
            "WARNING:langchain_text_splitters.base:Created a chunk of size 425, which is longer than the specified 200\n",
            "WARNING:langchain_text_splitters.base:Created a chunk of size 755, which is longer than the specified 200\n"
          ]
        }
      ]
    },
    {
      "cell_type": "code",
      "source": [
        "query = \"In relation to Eunice Fay McKenzie's career, which statement accurately reflects her most notable work?\"\n",
        "docs = db.similarity_search(query)\n",
        "print(docs[0].page_content)"
      ],
      "metadata": {
        "colab": {
          "base_uri": "https://localhost:8080/"
        },
        "id": "0FhoWL0yqGQI",
        "outputId": "f9ea3e2e-75d9-40b0-b335-e8c52998c3d4"
      },
      "execution_count": 16,
      "outputs": [
        {
          "output_type": "stream",
          "name": "stdout",
          "text": [
            "\"In relation to Eunice Fay McKenzie's career, which statement accurately reflects her most notable work?\",McKenzie gained recognition for her role as a child actress in a series of iconic silent films.,\"McKenzie's successful career in sound films continued into adulthood, becoming known for her versatile acting abilities.\",McKenzie's collaborations with director Blake Edwards were instrumental in her rise to fame.,McKenzie is primarily remembered for her starring roles opposite Gene Autry in popular Western films of the 1940s.,\"McKenzie showcased her singing talents in numerous musical productions, garnering critical acclaim.\",B\n"
          ]
        }
      ]
    },
    {
      "cell_type": "code",
      "source": [
        "print(documents[1])"
      ],
      "metadata": {
        "colab": {
          "base_uri": "https://localhost:8080/"
        },
        "id": "MTPp6rBAquzU",
        "outputId": "d319e0d9-f1e0-46bf-fb89-4b6e1301102e"
      },
      "execution_count": 18,
      "outputs": [
        {
          "output_type": "stream",
          "name": "stdout",
          "text": [
            "page_content='\"In relation to Eunice Fay McKenzie's career, which statement accurately reflects her most notable work?\",McKenzie gained recognition for her role as a child actress in a series of iconic silent films.,\"McKenzie's successful career in sound films continued into adulthood, becoming known for her versatile acting abilities.\",McKenzie's collaborations with director Blake Edwards were instrumental in her rise to fame.,McKenzie is primarily remembered for her starring roles opposite Gene Autry in popular Western films of the 1940s.,\"McKenzie showcased her singing talents in numerous musical productions, garnering critical acclaim.\",B' metadata={'source': '/content/exam-science-llm.csv'}\n"
          ]
        }
      ]
    },
    {
      "cell_type": "markdown",
      "source": [
        "Retrievers - These are like smart librarians. When you ask a question, they go to the vector store, find the most relevant information, and bring it back. They help fetch the most useful pieces of information based on what you're looking for."
      ],
      "metadata": {
        "id": "idVfZ6Sdw2ZI"
      }
    },
    {
      "cell_type": "code",
      "source": [
        "from langchain.chains import RetrievalQA\n",
        "from langchain.llms import OpenAI\n",
        "\n",
        "retriever = db.as_retriever()"
      ],
      "metadata": {
        "id": "uKwxHgazq77l"
      },
      "execution_count": 19,
      "outputs": []
    },
    {
      "cell_type": "code",
      "source": [
        "qa = RetrievalQA.from_chain_type(llm=OpenAI(), chain_type=\"stuff\", retriever=retriever)\n",
        "\n",
        "query = \"What big impact in Eunice Fay McKenzie's career?\"\n",
        "qa.run(query)"
      ],
      "metadata": {
        "colab": {
          "base_uri": "https://localhost:8080/",
          "height": 125
        },
        "id": "MwwCo_UVrCAV",
        "outputId": "836a494a-be66-4f93-a31e-4e7912bee528"
      },
      "execution_count": 20,
      "outputs": [
        {
          "output_type": "stream",
          "name": "stderr",
          "text": [
            "<ipython-input-20-c2f5dd76ef00>:1: LangChainDeprecationWarning: The class `OpenAI` was deprecated in LangChain 0.0.10 and will be removed in 1.0. An updated version of the class exists in the :class:`~langchain-openai package and should be used instead. To use it run `pip install -U :class:`~langchain-openai` and import as `from :class:`~langchain_openai import OpenAI``.\n",
            "  qa = RetrievalQA.from_chain_type(llm=OpenAI(), chain_type=\"stuff\", retriever=retriever)\n",
            "<ipython-input-20-c2f5dd76ef00>:4: LangChainDeprecationWarning: The method `Chain.run` was deprecated in langchain 0.1.0 and will be removed in 1.0. Use :meth:`~invoke` instead.\n",
            "  qa.run(query)\n"
          ]
        },
        {
          "output_type": "execute_result",
          "data": {
            "text/plain": [
              "\" McKenzie's collaborations with director Blake Edwards were instrumental in her rise to fame.\""
            ],
            "application/vnd.google.colaboratory.intrinsic+json": {
              "type": "string"
            }
          },
          "metadata": {},
          "execution_count": 20
        }
      ]
    },
    {
      "cell_type": "code",
      "source": [
        "query = \"In which family does Gudeodiscus anceyi belong?\"\n",
        "qa.run(query)"
      ],
      "metadata": {
        "colab": {
          "base_uri": "https://localhost:8080/",
          "height": 35
        },
        "id": "qgIWezfCvcoe",
        "outputId": "479f1f42-8b6d-43ee-ac70-71356444ca61"
      },
      "execution_count": 21,
      "outputs": [
        {
          "output_type": "execute_result",
          "data": {
            "text/plain": [
              "' Pupillidae'"
            ],
            "application/vnd.google.colaboratory.intrinsic+json": {
              "type": "string"
            }
          },
          "metadata": {},
          "execution_count": 21
        }
      ]
    },
    {
      "cell_type": "code",
      "source": [
        "query = \"What is the geographical location of IFK Kalix, a Swedish football club? What's the answer?\"\n",
        "qa.run(query)"
      ],
      "metadata": {
        "colab": {
          "base_uri": "https://localhost:8080/",
          "height": 35
        },
        "id": "B2Iu8DD-xNrB",
        "outputId": "1152ccef-523d-42cc-aba5-4adfc063c388"
      },
      "execution_count": 22,
      "outputs": [
        {
          "output_type": "execute_result",
          "data": {
            "text/plain": [
              "' IFK Kalix is located in Norrbotten County, in the region of Norrland, Sweden.'"
            ],
            "application/vnd.google.colaboratory.intrinsic+json": {
              "type": "string"
            }
          },
          "metadata": {},
          "execution_count": 22
        }
      ]
    },
    {
      "cell_type": "code",
      "source": [
        "query = \"Which of the following statements accurately describes Ray Montgomerie's football career?\"\n",
        "qa.run(query)"
      ],
      "metadata": {
        "colab": {
          "base_uri": "https://localhost:8080/",
          "height": 35
        },
        "id": "Pt073D1kxtIV",
        "outputId": "8a56716a-2dfe-4991-9563-e0c69e93d947"
      },
      "execution_count": 24,
      "outputs": [
        {
          "output_type": "execute_result",
          "data": {
            "text/plain": [
              "' Ray Montgomerie is a former footballer who played as a defender for Dumbarton, Kilmarnock, and Partick Thistle.'"
            ],
            "application/vnd.google.colaboratory.intrinsic+json": {
              "type": "string"
            }
          },
          "metadata": {},
          "execution_count": 24
        }
      ]
    },
    {
      "cell_type": "code",
      "source": [
        "query = \"What is the genre of the 2021 film Dreamcatcher directed by Jacob Johnson?\"\n",
        "qa.run(query)"
      ],
      "metadata": {
        "colab": {
          "base_uri": "https://localhost:8080/",
          "height": 35
        },
        "id": "3RmJlceux5DS",
        "outputId": "563de7c3-a8b4-4ab8-94f1-c5c0cf2e7dc9"
      },
      "execution_count": 26,
      "outputs": [
        {
          "output_type": "execute_result",
          "data": {
            "text/plain": [
              "\" I don't know.\""
            ],
            "application/vnd.google.colaboratory.intrinsic+json": {
              "type": "string"
            }
          },
          "metadata": {},
          "execution_count": 26
        }
      ]
    }
  ]
}